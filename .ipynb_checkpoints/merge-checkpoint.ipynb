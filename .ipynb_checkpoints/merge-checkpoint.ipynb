{
 "cells": [
  {
   "cell_type": "code",
   "execution_count": null,
   "metadata": {
    "collapsed": true
   },
   "outputs": [],
   "source": [
    "import pandas as pd\n",
    "import math\n",
    "import os\n",
    "from pathlib import Path\n",
    "import glob\n",
    "import luigi\n",
    "\n",
    "class MergeDataDownloaded(luigi.Task):\n",
    "\n",
    "    def run(self):\n",
    "        ftype = ['daily_44201_*.csv','daily_42401_*.csv',\"daily_42602_*.csv\",\"daily_42101_*.csv\",'daily_88101_*.csv','daily_81102_*.csv']\n",
    "        finalname = ['Summarized_daily_ozone.csv','Summarized_daily_SO2.csv', 'Summarized_daily_NO2.csv','Summarized_daily_CO.csv','Summarized_daily_PM2.5.csv','Summarized_daily_PM10.csv']\n",
    "\n",
    "        def merge(allFiles,fileName):\n",
    "            filepath = Path(fileName)\n",
    "            filelist = glob.glob(allFiles)  \n",
    "            heading = 0\n",
    "            if(filelist) != 0:\n",
    "                print(\"Total\",len(filelist), allFiles ,\"exists\")\n",
    "                with open(fileName, 'w',encoding='utf-8', newline=\"\") as file:\n",
    "                    for f in filelist:                                                                                                                    \n",
    "                        print(\"Processing\",f)\n",
    "                        df = pd.read_csv(f, skipinitialspace=True)\n",
    "                        if heading == 0:\n",
    "                            df.columns = ['State_Code','County_Code','Site_Num','Parameter_Code','POC','Latitude','Longitude','Datum','Parameter_Name','Sample_Duration','Pollutant_Standard','Date_Local','Units_of_Measure','Event_Type' ,'Observation_Count','Observation_Percent','Arithmetic_Mean','Max_Value','1st_Max_Hour','AQI','Method_Code','Method_Name','Local_Site_Name','Address','State_Name','County_Name','City_Name','CBSA_Name','Date_of_Last_Change']\n",
    "                            df.to_csv(file, header=True,index=False)\n",
    "                            heading = 1 \n",
    "                        else:\n",
    "                            df.to_csv(file, header=False, index=False, mode='a')\n",
    "                    print(fileName,\"generated!\")\n",
    "                    print(\"----------------------------------------\")\n",
    "            else:\n",
    "                print(\"file list is empty!!\")\n",
    "\n",
    "        for i in range(len(ftype)):\n",
    "            merge(ftype[i],finalname[i])\n",
    "            \n",
    "    def output(self):\n",
    "        #save file to Data directory\n",
    "        return luigi.LocalTarget(os.getcwd()) \n",
    "    \n",
    "    \n",
    "if __name__ == '__main__':\n",
    "    try:\n",
    "        luigi.run()\n",
    "    except MissingParameterException:\n",
    "        print(\"Exception\")\n",
    "        sys.exit()"
   ]
  }
 ],
 "metadata": {
  "kernelspec": {
   "display_name": "Python 3",
   "language": "python",
   "name": "python3"
  },
  "language_info": {
   "codemirror_mode": {
    "name": "ipython",
    "version": 3
   },
   "file_extension": ".py",
   "mimetype": "text/x-python",
   "name": "python",
   "nbconvert_exporter": "python",
   "pygments_lexer": "ipython3",
   "version": "3.6.0"
  }
 },
 "nbformat": 4,
 "nbformat_minor": 2
}
